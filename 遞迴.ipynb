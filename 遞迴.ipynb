{
  "nbformat": 4,
  "nbformat_minor": 0,
  "metadata": {
    "colab": {
      "provenance": [],
      "authorship_tag": "ABX9TyOJkPqKywdr1YfUCO5ReSxm",
      "include_colab_link": true
    },
    "kernelspec": {
      "name": "python3",
      "display_name": "Python 3"
    },
    "language_info": {
      "name": "python"
    }
  },
  "cells": [
    {
      "cell_type": "markdown",
      "metadata": {
        "id": "view-in-github",
        "colab_type": "text"
      },
      "source": [
        "<a href=\"https://colab.research.google.com/github/Alice049/sum/blob/main/%E9%81%9E%E8%BF%B4.ipynb\" target=\"_parent\"><img src=\"https://colab.research.google.com/assets/colab-badge.svg\" alt=\"Open In Colab\"/></a>"
      ]
    },
    {
      "cell_type": "markdown",
      "source": [
        "## **遞迴方式**\n",
        "求最大公因數gcd\n",
        "\n",
        "撰寫遞迴函式時，一定要有結束點，才使得函數可以往上追溯上去，n＝1時，回傳1,因此n為1時，就是遞迴函數的結束點。"
      ],
      "metadata": {
        "id": "nibDCXTwuJ_x"
      }
    },
    {
      "cell_type": "code",
      "execution_count": 2,
      "metadata": {
        "colab": {
          "base_uri": "https://localhost:8080/"
        },
        "id": "Ob5NC7FQtGs5",
        "outputId": "9f119a91-76da-44cf-8ec4-471533404ca1"
      },
      "outputs": [
        {
          "output_type": "stream",
          "name": "stdout",
          "text": [
            "what's your m number?12\n",
            "what's your n number?18\n",
            "gcd(m,n)= 6\n"
          ]
        }
      ],
      "source": [
        "m=int(input(\"what's your m number?\"))\n",
        "n=int(input(\"what's your n number?\"))\n",
        "def gcd(m,n):\n",
        "  temp=m % n\n",
        "  if temp ==0:\n",
        "    return n\n",
        "  else:\n",
        "    m=n\n",
        "    n=temp\n",
        "    return gcd(m,n)\n",
        "def main():\n",
        "  G=gcd(m,n)\n",
        "  print('gcd(m,n)=',G)\n",
        "\n",
        "main()"
      ]
    },
    {
      "cell_type": "markdown",
      "source": [
        "## **反覆方式**\n",
        "求最大公因數gcd\n"
      ],
      "metadata": {
        "id": "SQ51iDpSuWog"
      }
    },
    {
      "cell_type": "code",
      "source": [
        "m=int(input(\"what's your m number?\"))\n",
        "n=int(input(\"what's your n number?\"))\n",
        "def gad(m,n):\n",
        "  temp=m % n\n",
        "  while temp !=0:\n",
        "    m=n\n",
        "    n=temp\n",
        "    return gcd(m,n)\n",
        "def main():\n",
        "  G=gcd(m,n)\n",
        "  print('gcd(m,n)=',G)\n",
        "main()"
      ],
      "metadata": {
        "colab": {
          "base_uri": "https://localhost:8080/"
        },
        "id": "GnB6Fwr8uQrw",
        "outputId": "2d2589bb-fcde-4f87-d919-4b989a724fd8"
      },
      "execution_count": 3,
      "outputs": [
        {
          "output_type": "stream",
          "name": "stdout",
          "text": [
            "what's your m number?12\n",
            "what's your n number?18\n",
            "gcd(m,n)= 6\n"
          ]
        }
      ]
    },
    {
      "cell_type": "markdown",
      "source": [
        "# **遞迴方式**\n",
        "計算n!"
      ],
      "metadata": {
        "id": "JrpOogGw5DRH"
      }
    },
    {
      "cell_type": "code",
      "source": [
        "def factorial(n):\n",
        "  if n==1:\n",
        "    return 1\n",
        "  else:\n",
        "    return n * factorial(n-1)\n",
        "def main():\n",
        "  print('******Factorial counting Using Recursive******')\n",
        "  while True:\n",
        "    try:\n",
        "      n=int(input('Enter a number to count n!:'))\n",
        "    except ValueError:\n",
        "      print('Not a correct number.')\n",
        "      print('Try again\\n')\n",
        "    print('%d! =%d\\n'%(n,factorial(n)))\n",
        "\n",
        "    ch=input('Continue(y/n)?')\n",
        "    if ch !='y':\n",
        "      break\n",
        "main()"
      ],
      "metadata": {
        "colab": {
          "base_uri": "https://localhost:8080/"
        },
        "id": "Wrwm82Ed24Ex",
        "outputId": "01a97f15-318c-41b1-ab69-49b40bf21571"
      },
      "execution_count": 18,
      "outputs": [
        {
          "name": "stdout",
          "output_type": "stream",
          "text": [
            "******Factorial counting Using Recursive******\n",
            "Enter a number to count n!:3\n",
            "3! =6\n",
            "\n",
            "Continue(y/n)?n\n"
          ]
        }
      ]
    },
    {
      "cell_type": "code",
      "source": [
        "n=int(input('n=?'))\n",
        "def factorial(n):\n",
        "  if n==1:\n",
        "    return 1\n",
        "  else:\n",
        "    return n * factorial(n-1)\n",
        "def main():\n",
        "    print('%d! =%d\\n'%(n,factorial(n)))\n",
        "\n",
        "main()"
      ],
      "metadata": {
        "colab": {
          "base_uri": "https://localhost:8080/"
        },
        "id": "15_yEM2l4HjF",
        "outputId": "f42ee403-c8e4-4de0-c939-c75084203f2c"
      },
      "execution_count": 23,
      "outputs": [
        {
          "output_type": "stream",
          "name": "stdout",
          "text": [
            "n=?10\n",
            "10! =3628800\n",
            "\n"
          ]
        }
      ]
    },
    {
      "cell_type": "markdown",
      "source": [
        "# **遞迴方式**\n",
        "計算費氏數列"
      ],
      "metadata": {
        "id": "n97ra_hF5I16"
      }
    },
    {
      "cell_type": "code",
      "source": [
        "n=int(input('n=?'))\n",
        "def fib(n):\n",
        "  if n==0 or n==1:\n",
        "    return 1\n",
        "  else:\n",
        "    return fib(n-1)+fib(n-2)\n",
        "def main():\n",
        "    print('fib(%d) =%d'%(n,fib(n)))\n",
        "\n",
        "main()"
      ],
      "metadata": {
        "colab": {
          "base_uri": "https://localhost:8080/"
        },
        "id": "cDS_MD_Q5PkC",
        "outputId": "4b459abe-1be2-4a24-f887-7ad1650031cc"
      },
      "execution_count": 34,
      "outputs": [
        {
          "output_type": "stream",
          "name": "stdout",
          "text": [
            "n=?5\n",
            "fib(5) =8\n"
          ]
        }
      ]
    },
    {
      "cell_type": "code",
      "source": [
        "def fib(n):\n",
        "  if n==0 or n==1:\n",
        "    return 1\n",
        "  else:\n",
        "    return fib(n-1)+fib(n-2)\n",
        "def main():\n",
        "  print('******Fibonacci numbers Using  Recursive******')\n",
        "  while True:\n",
        "    try:\n",
        "      n=int(input('Enter a number to count n(n>=0):'))\n",
        "    except ValueError:\n",
        "      print('Not a correct number.')\n",
        "      print('Try again\\n')\n",
        "\n",
        "    if  n<0:\n",
        "      print('Number must be >0\\n')\n",
        "    else:\n",
        "      print('fib(%d) =%d'%(n,fib(n)))\n",
        "    ch=input('Continue(y/n)?')\n",
        "    if ch !='y':\n",
        "      break\n",
        "main()"
      ],
      "metadata": {
        "colab": {
          "base_uri": "https://localhost:8080/"
        },
        "id": "AxCcFnOh7t4v",
        "outputId": "e2cc961a-9de8-4775-861c-94c21806aa62"
      },
      "execution_count": 32,
      "outputs": [
        {
          "name": "stdout",
          "output_type": "stream",
          "text": [
            "******Fibonacci numbers Using  Recursive******\n",
            "Enter a number to count n(n>=0):3\n",
            "fib(3) =3\n",
            "Continue(y/n)?y\n",
            "Enter a number to count n(n>=0):5\n",
            "fib(5) =8\n",
            "Continue(y/n)?n\n"
          ]
        }
      ]
    },
    {
      "cell_type": "markdown",
      "source": [
        "# **遞迴方式**\n",
        "**河內塔問題**\n",
        "利用遞迴方式解決河內塔問題\n",
        "\n",
        "# 規則：\n",
        "河內塔問題有三根柱子，將n個盤子從Ａ柱子搬到C柱中，每此只移動一個盤子，且必須遵守每個盤子都比上面的盤子大的原則。\n",
        "\n",
        "# 如何解決：\n",
        "河內塔問題必須針對最下層的盤子進行移動\n",
        "我們必須要將Ａ柱子的n-1個盤子想辦法透過C柱移至B柱，才能把最下端的盤子移到C柱\n",
        "此時只有Ｃ有最大的盤子，而B共有n-1個盤子，Ａ柱則無\n",
        "\n",
        "# 方法論\n",
        "hanoiTower(n-1, A, C, B)\n",
        "將A柱頂端的n-1個盤子借助C移動到B\n",
        "hanoiTower(n-1, B, A, C)\n",
        "將B柱頂端的n-1個盤子借助A移動到C\n",
        "\n",
        "# 數學關係\n",
        "n個盤子移動2^n-1次\n",
        "\n",
        "\n",
        "\n",
        "\n",
        "\n"
      ],
      "metadata": {
        "id": "gD21qOpj8xjh"
      }
    },
    {
      "cell_type": "code",
      "source": [],
      "metadata": {
        "id": "30uAG4k1Fh1s"
      },
      "execution_count": null,
      "outputs": []
    },
    {
      "cell_type": "code",
      "source": [
        "\n",
        "def hanoiTower(n, _from, _aux, _to):#n個盤子移動2^n-1次\n",
        "  if n==1:\n",
        "    print(\"Move disk %d from %c --> %c\"%(n,_from,_to))#將A柱頂端的n=1個盤子從A移動到C\n",
        "  else:\n",
        "    hanoiTower(n-1,_from,_to,_aux)#將A柱頂端的n-1個盤子借助C移動到B\n",
        "    print(\"Move disk %d from %c --> %c\"%(n,_from,_to))\n",
        "    hanoiTower(n-1,_aux,_from,_to)#將B柱頂端的n-1個盤子借助A移動到C\n",
        "\n",
        "def main():\n",
        "  A='A'\n",
        "  B='B'\n",
        "  C='C'\n",
        "  print('**********Hanoi tower implentation*******')\n",
        "\n",
        "  try:\n",
        "    n=int(input('How many disks in A?'))\n",
        "  except ValueError:\n",
        "    print('Not a correct number')\n",
        "    print('Try again\\n')\n",
        "\n",
        "  if n==0:\n",
        "    print('No disk to move')\n",
        "  else:\n",
        "    hanoiTower(n,A,B,C)\n",
        "  #ch=input('Continue (y/n)?')\n",
        "  #if ch !='y':\n",
        "  #  break\n",
        "main()\n"
      ],
      "metadata": {
        "colab": {
          "base_uri": "https://localhost:8080/"
        },
        "id": "YIXvAEAM846s",
        "outputId": "d62df688-1672-465c-b3cb-6c87b5380754"
      },
      "execution_count": 41,
      "outputs": [
        {
          "output_type": "stream",
          "name": "stdout",
          "text": [
            "**********Hanoi tower implentation*******\n",
            "How many disks in A?4\n",
            "Move disk 1 from A --> B\n",
            "Move disk 2 from A --> C\n",
            "Move disk 1 from B --> C\n",
            "Move disk 3 from A --> B\n",
            "Move disk 1 from C --> A\n",
            "Move disk 2 from C --> B\n",
            "Move disk 1 from A --> B\n",
            "Move disk 4 from A --> C\n",
            "Move disk 1 from B --> C\n",
            "Move disk 2 from B --> A\n",
            "Move disk 1 from C --> A\n",
            "Move disk 3 from B --> C\n",
            "Move disk 1 from A --> B\n",
            "Move disk 2 from A --> C\n",
            "Move disk 1 from B --> C\n"
          ]
        }
      ]
    }
  ]
}